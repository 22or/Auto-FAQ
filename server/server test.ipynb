{
 "cells": [
  {
   "cell_type": "code",
   "execution_count": 8,
   "metadata": {},
   "outputs": [],
   "source": [
    "import requests"
   ]
  },
  {
   "cell_type": "code",
   "execution_count": 9,
   "metadata": {},
   "outputs": [],
   "source": [
    "question = \"When is it?\"\n",
    "context = \"The company's annual sales meeting will be held on July 15th at the Grand Ballroom of the Hilton Hotel downtown. All employees are required to attend. The agenda will include a presentation from the CEO, a review of the past year's performance, and a discussion of the upcoming strategic goals. Refreshments will be served throughout the day.\"\n",
    "\n",
    "inference_request = {\n",
    "\t\"inputs\": [\n",
    "\t\t{\n",
    "\t\t\t\"name\": \"question\",\n",
    "\t\t\t\"shape\": [],\n",
    "\t\t\t\"datatype\": \"BYTES\",\n",
    "\t\t\t\"data\": [question],\n",
    "\t\t\t\"parameters\": {\n",
    "\t\t\t\t\"content_type\": \"str\"\n",
    "\t\t\t}\n",
    "\t\t},\n",
    "\t\t{\n",
    "\t\t\t\"name\": \"context\",\n",
    "\t\t\t\"shape\": [],\n",
    "\t\t\t\"datatype\": \"BYTES\",\n",
    "\t\t\t\"data\": [context],\n",
    "\t\t\t\"parameters\": {\n",
    "\t\t\t\t\"content_type\": \"str\"\n",
    "\t\t\t}\n",
    "\t\t}\n",
    "\t]\n",
    "}"
   ]
  },
  {
   "cell_type": "code",
   "execution_count": 10,
   "metadata": {},
   "outputs": [
    {
     "data": {
      "text/plain": [
       "{'model_name': 'faq',\n",
       " 'id': '07369588-d70d-4fc0-b0db-e6b9bc5402b3',\n",
       " 'parameters': {},\n",
       " 'outputs': [{'name': 'output-0',\n",
       "   'shape': [2, 1],\n",
       "   'datatype': 'BYTES',\n",
       "   'parameters': {'content_type': 'np'},\n",
       "   'data': ['5.5276103019714355', 'July 15th']}]}"
      ]
     },
     "execution_count": 10,
     "metadata": {},
     "output_type": "execute_result"
    }
   ],
   "source": [
    "requests.post('http://0.0.0.0:8080/v2/models/faq/infer',json=inference_request).json()"
   ]
  }
 ],
 "metadata": {
  "kernelspec": {
   "display_name": "venv",
   "language": "python",
   "name": "python3"
  },
  "language_info": {
   "codemirror_mode": {
    "name": "ipython",
    "version": 3
   },
   "file_extension": ".py",
   "mimetype": "text/x-python",
   "name": "python",
   "nbconvert_exporter": "python",
   "pygments_lexer": "ipython3",
   "version": "3.10.12"
  }
 },
 "nbformat": 4,
 "nbformat_minor": 2
}
