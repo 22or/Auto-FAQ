{
 "cells": [
  {
   "cell_type": "code",
   "execution_count": 35,
   "metadata": {},
   "outputs": [],
   "source": [
    "import os.path\n",
    "\n",
    "from google.auth.transport.requests import Request\n",
    "from google.oauth2.credentials import Credentials\n",
    "from googleapiclient.discovery import build\n",
    "from googleapiclient.errors import HttpError\n",
    "import base64\n",
    "import re\n",
    "from google_auth_oauthlib.flow import InstalledAppFlow\n",
    "from email.message import EmailMessage"
   ]
  },
  {
   "cell_type": "code",
   "execution_count": 36,
   "metadata": {},
   "outputs": [],
   "source": [
    "SCOPES = ['https://www.googleapis.com/auth/gmail.readonly','https://www.googleapis.com/auth/gmail.modify']\n",
    "\n",
    "creds = None\n",
    "# The file token.json stores the user's access and refresh tokens,and is\n",
    "# created automatically when the authorization flow completes for the first\n",
    "# time.\n",
    "if os.path.exists('token.json'):\n",
    "\tcreds = Credentials.from_authorized_user_file('token.json',SCOPES)\n",
    "# If there are no (valid) credentials available,let the user log in.\n",
    "if not creds or not creds.valid:\n",
    "\tif creds and creds.expired and creds.refresh_token:\n",
    "\t\tcreds.refresh(Request())\n",
    "\telse:\n",
    "\t\tflow = InstalledAppFlow.from_client_secrets_file(\n",
    "\t\t\t'credentials.json',SCOPES)\n",
    "\t\tcreds = flow.run_local_server(port=0)\n",
    "\t# Save the credentials for the next run\n",
    "\twith open('token.json','w') as token:\n",
    "\t\ttoken.write(creds.to_json())"
   ]
  },
  {
   "cell_type": "code",
   "execution_count": null,
   "metadata": {},
   "outputs": [
    {
     "name": "stdout",
     "output_type": "stream",
     "text": [
      "[]\n"
     ]
    }
   ],
   "source": [
    "service = build('gmail','v1',credentials=creds)\n",
    "results = service.users().messages().list(userId='me',labelIds=['INBOX'],q=\"is:unread\").execute()\n",
    "messages = results.get('messages',[])\n",
    "print(messages)"
   ]
  },
  {
   "cell_type": "code",
   "execution_count": 38,
   "metadata": {},
   "outputs": [],
   "source": [
    "def reply_message(sender,subject,text,message_id):\n",
    "\ttry:\n",
    "\t\tservice = build(\"gmail\",\"v1\",credentials=creds)\n",
    "\t\tmessage = EmailMessage()\n",
    "\n",
    "\t\tmessage.set_content(text)\n",
    "\n",
    "\t\tmessage[\"To\"] = sender\n",
    "\t\tmessage[\"From\"] = \"roger.wang@biologybowl.org\"\n",
    "\t\tmessage[\"Subject\"] = subject\n",
    "\t\tmessage[\"In-Reply-To\"] = message_id\n",
    "\t\tmessage[\"References\"] = message_id\n",
    "\n",
    "\t\tencoded_message = base64.urlsafe_b64encode(message.as_bytes()).decode()\n",
    "\n",
    "\t\tcreate_message = {\"raw\": encoded_message}\n",
    "\n",
    "\t\tsend_message = (\n",
    "\t\t\tservice.users()\n",
    "\t\t\t.messages()\n",
    "\t\t\t.send(userId=\"me\",body = create_message)\n",
    "\t\t\t.execute()\n",
    "\t\t)\n",
    "\t\tprint(f'Message Id: {send_message[\"id\"]}')\n",
    "\n",
    "\texcept HttpError as error:\n",
    "\t\tprint(f\"An error occurred: {error}\")\n",
    "\t\tsend_message = None"
   ]
  },
  {
   "cell_type": "code",
   "execution_count": 39,
   "metadata": {},
   "outputs": [],
   "source": [
    "if messages:\n",
    "\tfor message in messages:\n",
    "\t\tmsg = service.users().messages().get(userId='me',id = message['id']).execute()\n",
    "\t\theaders = msg['payload']['headers']\n",
    "\n",
    "\t\tfrom_email = None\n",
    "\t\ttext = None\n",
    "\t\tsubject = None\n",
    "\t\tmessage_id = None\n",
    "\t\tfor header in headers:\n",
    "\t\t\tmatch header['name']:\n",
    "\t\t\t\tcase 'From':\n",
    "\t\t\t\t\tfrom_name= header['value']\n",
    "\t\t\t\t\tfrom_email = re.findall('<(.*)>',from_name)[0]\n",
    "\n",
    "\t\t\t\t\tdata = msg['payload']['parts'][0]['body']['data']\t\n",
    "\t\t\t\t\tbyte_code = base64.urlsafe_b64decode(data)\n",
    "\t\t\t\t\ttext = str(byte_code.decode(\"utf-8\"))\n",
    "\t\t\t\t\n",
    "\t\t\t\tcase 'Subject':\n",
    "\t\t\t\t\tsubject = header['value']\n",
    "\n",
    "\t\t\t\tcase 'Message-ID':\n",
    "\t\t\t\t\tmessage_id = header['value']\n",
    "\n",
    "\t\treply_message(from_email,subject,text,message_id)"
   ]
  }
 ],
 "metadata": {
  "kernelspec": {
   "display_name": "venv",
   "language": "python",
   "name": "python3"
  },
  "language_info": {
   "codemirror_mode": {
    "name": "ipython",
    "version": 3
   },
   "file_extension": ".py",
   "mimetype": "text/x-python",
   "name": "python",
   "nbconvert_exporter": "python",
   "pygments_lexer": "ipython3",
   "version": "3.10.12"
  }
 },
 "nbformat": 4,
 "nbformat_minor": 2
}
